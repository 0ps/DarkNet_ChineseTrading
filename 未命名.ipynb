{
 "cells": [
  {
   "cell_type": "code",
   "execution_count": 2,
   "metadata": {},
   "outputs": [
    {
     "data": {
      "text/plain": [
       "'\\r\\r<html>\\r<head>\\r<meta name=\"renderer\" content=\"webkit|ie-stand\" />\\r<meta http-equiv=\"X-UA-Compatible\" content=\"IE=edge,chrome=1\"/>\\r<meta http-equiv=\"pragma\" content=\"no-cache\">\\r<meta http-equiv=\"cache-control\" content=\"no-cache\">\\r<meta name=\"viewport\" content=\"initial-scale=1, maximum-scale=3, minimum-scale=1, user-scalable=no\">\\r<meta http-equiv=\"Content-Type\" content=\"text/html; charset=utf-8\" />\\r<meta http-equiv=\"refresh\" content=\"3;url=http://deepmixjso4ero6h3psxskkb756offo3uznx4a44vuc5464mjkqwndyd.onion\"> \\r<link rel=\"stylesheet\" href=\"style.css\" />\\r<title>正在切换线路.</title>\\r</head>\\r<body class = \"deepbody\">\\r<div class = \"bodyall\">\\r<table class=table_login>\\r<tr><td colspan=2>线路切换中!</td></tr>\\r\\r<tr><td style=\\'width:21px;\\'></td><td>正在为您挑选最佳线路. </td></tr><tr><td></td><td></td></tr><tr><td style=\\'width:21px;\\'></td><td>请注意: 如果反复多次无法进入, 请关闭tor浏览器重新打开, 或者使用tor新身份重新进入</td></tr><tr><td></td><td></td></tr><tr><td style=\\'width:21px;\\'></td><td>基于安全因素, 本网已经屏蔽掉洋葱路由中安全等级不高的加密转发节点. (全自动挑选)</td></tr><tr><td></td><td></td></tr>\\r\\r<tr><td colspan=2></td></tr>\\r</table>\\r</div>\\r</body>\\r</html>\\r\\r\\r\\r\\r\\r\\r\\r\\r\\r'"
      ]
     },
     "execution_count": 2,
     "metadata": {},
     "output_type": "execute_result"
    }
   ],
   "source": [
    "import requests\n",
    "import json\n",
    "\n",
    "url = \"http://deepmixl6jyyextuekqvufhaw3k4fv2zygcllo5lciupwdru6cb7xeqd.onion/ucp.php?mode=login&sid=b8d269f73ac23b01ae00eee3493a6ed7\"\n",
    "data = json.loads(r'''{\n",
    "    \"username\": \"a1wvpV7De62\",\n",
    "    \"password\": \"i41ikd6Gq0yWCmf4Jnh\",\n",
    "    \"redirect\": \"index.php\",\n",
    "    \"creation_time\": \"1557308606\",\n",
    "    \"form_token\": \"c5ebae34bca711c3c753aba1b3c47c91c25b3c20\",\n",
    "    \"sid\": \"b8d269f73ac23b01ae00eee3493a6ed7\",\n",
    "    \"login\": \"登录\",\n",
    "    \"autim\": \"67511646\"\n",
    "}''')\n",
    "headers = json.loads(r'''{\n",
    "    \"Accept\": \"text/html,application/xhtml+xml,application/xml;q=0.9,image/webp,image/apng,*/*;q=0.8,application/signed-exchange;v=b3\",\n",
    "    \"Accept-Encoding\": \"gzip, deflate\",\n",
    "    \"Accept-Language\": \"zh-CN,zh;q=0.9,en;q=0.8\",\n",
    "    \"Cache-Control\": \"no-cache\",\n",
    "    \"Connection\": \"keep-alive\",\n",
    "    \"Cookie\": \"PHPSESSID=1ce1dfhgedkgvhabun60bqs07e; phpbb3_nspa_c=6597610609; phpbb3_nspa_a=1; phpbb3_nspa_k=; phpbb3_nspa_u=339601; phpbb3_nspa_sid=94509627410db624be4d49c87c78fa43\",\n",
    "    \"DNT\": \"1\",\n",
    "    \"Host\": \"deepmixl6jyyextuekqvufhaw3k4fv2zygcllo5lciupwdru6cb7xeqd.onion\",\n",
    "    \"Pragma\": \"no-cache\",\n",
    "    \"Referer\": \"http://deepmixl6jyyextuekqvufhaw3k4fv2zygcllo5lciupwdru6cb7xeqd.onion/ucp.php?mode=login&autim=67511639\",\n",
    "    \"Upgrade-Insecure-Requests\": \"1\",\n",
    "    \"User-Agent\": \"Mozilla/5.0 (Macintosh; Intel Mac OS X 10_13_4) AppleWebKit/537.36 (KHTML, like Gecko) Chrome/73.0.3683.103 Safari/537.36\"\n",
    "}''')\n",
    "\n",
    "resp = requests.post(url, data=data, headers=headers,proxies={'http':'socks5h://127.0.0.1:9150'})\n",
    "resp.text"
   ]
  },
  {
   "cell_type": "code",
   "execution_count": null,
   "metadata": {},
   "outputs": [],
   "source": []
  }
 ],
 "metadata": {
  "kernelspec": {
   "display_name": "Python 3",
   "language": "python",
   "name": "python3"
  },
  "language_info": {
   "codemirror_mode": {
    "name": "ipython",
    "version": 3
   },
   "file_extension": ".py",
   "mimetype": "text/x-python",
   "name": "python",
   "nbconvert_exporter": "python",
   "pygments_lexer": "ipython3",
   "version": "3.7.3"
  }
 },
 "nbformat": 4,
 "nbformat_minor": 2
}
