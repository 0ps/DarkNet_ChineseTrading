{
 "cells": [
  {
   "cell_type": "code",
   "execution_count": 1,
   "metadata": {},
   "outputs": [],
   "source": [
    "import stem"
   ]
  },
  {
   "cell_type": "code",
   "execution_count": 2,
   "metadata": {},
   "outputs": [],
   "source": [
    "from stem import Signal\n",
    "from stem.control import Controller"
   ]
  },
  {
   "cell_type": "code",
   "execution_count": 4,
   "metadata": {},
   "outputs": [],
   "source": []
  },
  {
   "cell_type": "code",
   "execution_count": 5,
   "metadata": {},
   "outputs": [
    {
     "data": {
      "text/plain": [
       "['lsof']"
      ]
     },
     "execution_count": 5,
     "metadata": {},
     "output_type": "execute_result"
    }
   ],
   "source": [
    "stem.util.connection.system_resolvers()"
   ]
  },
  {
   "cell_type": "code",
   "execution_count": 10,
   "metadata": {},
   "outputs": [],
   "source": [
    "stem.util.connection.port_usage(9150)"
   ]
  },
  {
   "cell_type": "code",
   "execution_count": 18,
   "metadata": {},
   "outputs": [
    {
     "data": {
      "text/plain": [
       "['__class__',\n",
       " '__delattr__',\n",
       " '__dict__',\n",
       " '__dir__',\n",
       " '__doc__',\n",
       " '__enter__',\n",
       " '__eq__',\n",
       " '__exit__',\n",
       " '__format__',\n",
       " '__ge__',\n",
       " '__getattribute__',\n",
       " '__gt__',\n",
       " '__hash__',\n",
       " '__init__',\n",
       " '__init_subclass__',\n",
       " '__le__',\n",
       " '__lt__',\n",
       " '__module__',\n",
       " '__ne__',\n",
       " '__new__',\n",
       " '__reduce__',\n",
       " '__reduce_ex__',\n",
       " '__repr__',\n",
       " '__setattr__',\n",
       " '__sizeof__',\n",
       " '__str__',\n",
       " '__subclasshook__',\n",
       " '__weakref__',\n",
       " '_attach_listeners',\n",
       " '_cache_lock',\n",
       " '_close',\n",
       " '_confchanged_cache_invalidation',\n",
       " '_connect',\n",
       " '_enabled_features',\n",
       " '_event_listeners',\n",
       " '_event_listeners_lock',\n",
       " '_event_loop',\n",
       " '_event_notice',\n",
       " '_event_queue',\n",
       " '_event_thread',\n",
       " '_get_cache',\n",
       " '_get_cache_map',\n",
       " '_get_conf_dict_to_response',\n",
       " '_get_custom_options',\n",
       " '_handle_event',\n",
       " '_is_authenticated',\n",
       " '_is_caching_enabled',\n",
       " '_is_geoip_unavailable',\n",
       " '_is_server_descriptors_available',\n",
       " '_last_address_exc',\n",
       " '_last_fingerprint_exc',\n",
       " '_last_heartbeat',\n",
       " '_last_newnym',\n",
       " '_launch_threads',\n",
       " '_msg_lock',\n",
       " '_notify_status_listeners',\n",
       " '_post_authentication',\n",
       " '_reader_loop',\n",
       " '_reader_thread',\n",
       " '_reply_queue',\n",
       " '_request_cache',\n",
       " '_set_cache',\n",
       " '_socket',\n",
       " '_socket_close',\n",
       " '_socket_connect',\n",
       " '_state_change_threads',\n",
       " '_status_listeners',\n",
       " '_status_listeners_lock',\n",
       " 'add_event_listener',\n",
       " 'add_status_listener',\n",
       " 'attach_stream',\n",
       " 'authenticate',\n",
       " 'clear_cache',\n",
       " 'close',\n",
       " 'close_circuit',\n",
       " 'close_stream',\n",
       " 'connect',\n",
       " 'connection_time',\n",
       " 'create_ephemeral_hidden_service',\n",
       " 'create_hidden_service',\n",
       " 'drop_guards',\n",
       " 'enable_feature',\n",
       " 'extend_circuit',\n",
       " 'from_port',\n",
       " 'from_socket_file',\n",
       " 'get_accounting_stats',\n",
       " 'get_circuit',\n",
       " 'get_circuits',\n",
       " 'get_conf',\n",
       " 'get_conf_map',\n",
       " 'get_effective_rate',\n",
       " 'get_exit_policy',\n",
       " 'get_hidden_service_conf',\n",
       " 'get_hidden_service_descriptor',\n",
       " 'get_info',\n",
       " 'get_latest_heartbeat',\n",
       " 'get_listeners',\n",
       " 'get_microdescriptor',\n",
       " 'get_microdescriptors',\n",
       " 'get_network_status',\n",
       " 'get_network_statuses',\n",
       " 'get_newnym_wait',\n",
       " 'get_pid',\n",
       " 'get_ports',\n",
       " 'get_protocolinfo',\n",
       " 'get_server_descriptor',\n",
       " 'get_server_descriptors',\n",
       " 'get_socket',\n",
       " 'get_socks_listeners',\n",
       " 'get_streams',\n",
       " 'get_user',\n",
       " 'get_version',\n",
       " 'is_alive',\n",
       " 'is_authenticated',\n",
       " 'is_caching_enabled',\n",
       " 'is_feature_enabled',\n",
       " 'is_geoip_unavailable',\n",
       " 'is_localhost',\n",
       " 'is_newnym_available',\n",
       " 'is_set',\n",
       " 'is_user_traffic_allowed',\n",
       " 'list_ephemeral_hidden_services',\n",
       " 'load_conf',\n",
       " 'map_address',\n",
       " 'msg',\n",
       " 'new_circuit',\n",
       " 'reconnect',\n",
       " 'remove_ephemeral_hidden_service',\n",
       " 'remove_event_listener',\n",
       " 'remove_hidden_service',\n",
       " 'remove_status_listener',\n",
       " 'repurpose_circuit',\n",
       " 'reset_conf',\n",
       " 'save_conf',\n",
       " 'set_caching',\n",
       " 'set_conf',\n",
       " 'set_hidden_service_conf',\n",
       " 'set_options',\n",
       " 'signal']"
      ]
     },
     "execution_count": 18,
     "metadata": {},
     "output_type": "execute_result"
    }
   ],
   "source": [
    "controller = Controller.from_port(port=9151)\n",
    "controller.authenticate()\n",
    "dir(controller)"
   ]
  },
  {
   "cell_type": "code",
   "execution_count": 37,
   "metadata": {},
   "outputs": [
    {
     "ename": "TypeError",
     "evalue": "from_str() missing 1 required positional argument: 'content'",
     "output_type": "error",
     "traceback": [
      "\u001b[0;31m---------------------------------------------------------------------------\u001b[0m",
      "\u001b[0;31mTypeError\u001b[0m                                 Traceback (most recent call last)",
      "\u001b[0;32m<ipython-input-37-f8cbb94db906>\u001b[0m in \u001b[0;36m<module>\u001b[0;34m\u001b[0m\n\u001b[0;32m----> 1\u001b[0;31m \u001b[0mcontroller\u001b[0m\u001b[0;34m.\u001b[0m\u001b[0mget_protocolinfo\u001b[0m\u001b[0;34m(\u001b[0m\u001b[0;34m)\u001b[0m\u001b[0;34m.\u001b[0m\u001b[0mfrom_str\u001b[0m\u001b[0;34m(\u001b[0m\u001b[0;34m)\u001b[0m\u001b[0;34m\u001b[0m\u001b[0;34m\u001b[0m\u001b[0m\n\u001b[0m",
      "\u001b[0;31mTypeError\u001b[0m: from_str() missing 1 required positional argument: 'content'"
     ]
    }
   ],
   "source": [
    "controller.get_protocolinfo().from_str()"
   ]
  },
  {
   "cell_type": "code",
   "execution_count": 48,
   "metadata": {},
   "outputs": [
    {
     "name": "stdout",
     "output_type": "stream",
     "text": [
      "None\n",
      "None\n",
      "None\n",
      "None\n",
      "None\n",
      "None\n",
      "None\n",
      "None\n",
      "None\n",
      "None\n",
      "None\n",
      "None\n",
      "None\n",
      "None\n"
     ]
    }
   ],
   "source": [
    "from stem import CircStatus\n",
    "from stem.control import Controller\n",
    "\n",
    "with Controller.from_port(port=9151) as controller:\n",
    "    controller.authenticate()\n",
    "    for circ in controller.get_circuits():\n",
    "\n",
    "        if circ.status != CircStatus.BUILT:\n",
    "            continue \n",
    "        entry_fingerprint = circ.path[0][0]\n",
    "        entry_descriptor = controller.get_network_status(entry_fingerprint, None)\n",
    "        print(entry_descriptor)\n",
    "        if entry_descriptor:\n",
    "            print(f\"Circuit {circ.id} starts with {entry_descriptor.address}\")"
   ]
  },
  {
   "cell_type": "code",
   "execution_count": null,
   "metadata": {},
   "outputs": [],
   "source": []
  }
 ],
 "metadata": {
  "kernelspec": {
   "display_name": "Python 3",
   "language": "python",
   "name": "python3"
  },
  "language_info": {
   "codemirror_mode": {
    "name": "ipython",
    "version": 3
   },
   "file_extension": ".py",
   "mimetype": "text/x-python",
   "name": "python",
   "nbconvert_exporter": "python",
   "pygments_lexer": "ipython3",
   "version": "3.7.3"
  }
 },
 "nbformat": 4,
 "nbformat_minor": 2
}
